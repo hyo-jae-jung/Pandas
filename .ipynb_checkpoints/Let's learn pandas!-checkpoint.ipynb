{
 "cells": [
  {
   "cell_type": "code",
   "execution_count": 2,
   "id": "0faf3552",
   "metadata": {},
   "outputs": [],
   "source": [
    "# jupyter notebook 단축키\n",
    "#셀 편집모드(연두색)\n",
    "#셀 선택모드(하늘색)\n",
    "#ctrl + enter : 코드실행\n",
    "#shift + enter : 코드 실행 후 아래셀로 이동 또는 셀 추가\n",
    "# shift + tab : argument\n",
    "# esc : 셀 편집모드(연두색) -> 셀 선택모드(하늘색)\n",
    "# enter : 셀 선택모드(하늘색) -> 셀 편집모드(연두색)\n",
    "# a : 셀 선택모드에서 위에 셀 추가\n",
    "# b : 셀 선택모드에서 아래에 셀 추가\n",
    "# x : 셀 삭제\n",
    "# o : 결과창 펴기/접기\n",
    "# ctrl + s : 저장하기"
   ]
  }
 ],
 "metadata": {
  "kernelspec": {
   "display_name": "Python 3 (ipykernel)",
   "language": "python",
   "name": "python3"
  },
  "language_info": {
   "codemirror_mode": {
    "name": "ipython",
    "version": 3
   },
   "file_extension": ".py",
   "mimetype": "text/x-python",
   "name": "python",
   "nbconvert_exporter": "python",
   "pygments_lexer": "ipython3",
   "version": "3.8.10"
  }
 },
 "nbformat": 4,
 "nbformat_minor": 5
}
