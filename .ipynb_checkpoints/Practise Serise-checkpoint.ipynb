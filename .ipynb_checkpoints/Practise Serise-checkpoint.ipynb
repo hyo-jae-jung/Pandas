{
 "cells": [
  {
   "cell_type": "code",
   "execution_count": 54,
   "id": "581cc342",
   "metadata": {},
   "outputs": [],
   "source": [
    "import pandas as pd\n",
    "import numpy as np\n",
    "import matplotlib.pyplot as plt\n",
    "import matplotlib.font_manager as fm\n",
    "# font_list = fm.findSystemFonts(fontpaths = None, fontext='ttf')\n",
    "# font_list[:]\n",
    "matplotlib.rcParams['font.family']='NanumMyeongjo'\n",
    "matplotlib.rcParams['axes.unicode_minus']=False"
   ]
  },
  {
   "cell_type": "code",
   "execution_count": 7,
   "id": "ccbcf51f",
   "metadata": {
    "scrolled": true
   },
   "outputs": [
    {
     "data": {
      "text/plain": [
       "홍길동     90\n",
       "이순신     90\n",
       "임꺽정     55\n",
       "정난정     60\n",
       "이이      76\n",
       "이황      80\n",
       "정도전     76\n",
       "김철수1    88\n",
       "김철수2    30\n",
       "김철수3    25\n",
       "Name: 국어점수, dtype: int64"
      ]
     },
     "execution_count": 7,
     "metadata": {},
     "output_type": "execute_result"
    }
   ],
   "source": [
    "sr = pd.Series( [90,90,55,60,76,80,76,88,30,25],\n",
    "               name=\"국어점수\" )\n",
    "sr.index=['홍길동','이순신','임꺽정','정난정',\n",
    "         '이이','이황','정도전','김철수1',\n",
    "          '김철수2','김철수3']\n",
    "sr"
   ]
  },
  {
   "cell_type": "code",
   "execution_count": 4,
   "id": "c3b25d96",
   "metadata": {},
   "outputs": [],
   "source": [
    "#( 연습문제 )\n",
    "#1. 국어점수가 가장큰값을 구하시요\n",
    "#2. 국어점수가 가장큰값의 이름을 구하시요\n",
    "#3. 국어점수가 80점이상인 값을 구하시요\n",
    "#4. 국어 점수가 50점이상 80점이하인 값을 구하시요\n",
    "#5. 이름이 김으로 시작하는 데이터를 구하시요"
   ]
  },
  {
   "cell_type": "code",
   "execution_count": 5,
   "id": "ebf9671c",
   "metadata": {},
   "outputs": [
    {
     "data": {
      "text/plain": [
       "90"
      ]
     },
     "execution_count": 5,
     "metadata": {},
     "output_type": "execute_result"
    }
   ],
   "source": [
    "#1.\n",
    "sr.max()"
   ]
  },
  {
   "cell_type": "code",
   "execution_count": 9,
   "id": "08a79cfb",
   "metadata": {
    "scrolled": false
   },
   "outputs": [
    {
     "data": {
      "text/plain": [
       "홍길동    90\n",
       "이순신    90\n",
       "Name: 국어점수, dtype: int64"
      ]
     },
     "execution_count": 9,
     "metadata": {},
     "output_type": "execute_result"
    }
   ],
   "source": [
    "#2.\n",
    "sr.nlargest(1,keep='all')"
   ]
  },
  {
   "cell_type": "code",
   "execution_count": 17,
   "id": "8295cdd6",
   "metadata": {
    "scrolled": true
   },
   "outputs": [
    {
     "data": {
      "text/plain": [
       "Index(['홍길동', '이순신', '이황', '김철수1'], dtype='object')"
      ]
     },
     "execution_count": 17,
     "metadata": {},
     "output_type": "execute_result"
    }
   ],
   "source": [
    "#3.\n",
    "sr[sr>=80].index"
   ]
  },
  {
   "cell_type": "code",
   "execution_count": 20,
   "id": "e4e69464",
   "metadata": {
    "scrolled": true
   },
   "outputs": [
    {
     "data": {
      "text/plain": [
       "array([55, 60, 76, 80, 76])"
      ]
     },
     "execution_count": 20,
     "metadata": {},
     "output_type": "execute_result"
    }
   ],
   "source": [
    "#4.\n",
    "sr[(sr>=50) &(sr<=80)].values"
   ]
  },
  {
   "cell_type": "code",
   "execution_count": 24,
   "id": "52001da2",
   "metadata": {
    "scrolled": true
   },
   "outputs": [
    {
     "data": {
      "text/plain": [
       "김철수1    88\n",
       "김철수2    30\n",
       "김철수3    25\n",
       "Name: 국어점수, dtype: int64"
      ]
     },
     "execution_count": 24,
     "metadata": {},
     "output_type": "execute_result"
    }
   ],
   "source": [
    "#5.\n",
    "sr[sr.index.str.contains('^김')]"
   ]
  },
  {
   "cell_type": "code",
   "execution_count": 1,
   "id": "44627541",
   "metadata": {},
   "outputs": [],
   "source": [
    "#6. 국어점수의 평균을 구하시요\n",
    "#7. 국어점수의 총합을 구하시요\n",
    "#8. 국어점수의 표준편차를 구하시요\n",
    "#9. 국어점수가 40점이하인 데이터를 삭제하시요\n",
    "#10. 국어점수가 50점이상인 데이터에 가산점 10%를 미만인경우는 20%를 부여하시요"
   ]
  },
  {
   "cell_type": "code",
   "execution_count": 10,
   "id": "3a0f2557",
   "metadata": {
    "scrolled": true
   },
   "outputs": [
    {
     "data": {
      "text/plain": [
       "67.0"
      ]
     },
     "execution_count": 10,
     "metadata": {},
     "output_type": "execute_result"
    }
   ],
   "source": [
    "#6.\n",
    "sr.mean()"
   ]
  },
  {
   "cell_type": "code",
   "execution_count": 11,
   "id": "a17857f0",
   "metadata": {
    "scrolled": false
   },
   "outputs": [
    {
     "data": {
      "text/plain": [
       "670"
      ]
     },
     "execution_count": 11,
     "metadata": {},
     "output_type": "execute_result"
    }
   ],
   "source": [
    "#7.\n",
    "sr.sum()"
   ]
  },
  {
   "cell_type": "code",
   "execution_count": 14,
   "id": "3864b391",
   "metadata": {
    "scrolled": true
   },
   "outputs": [
    {
     "data": {
      "text/plain": [
       "23.935097428021656"
      ]
     },
     "execution_count": 14,
     "metadata": {},
     "output_type": "execute_result"
    }
   ],
   "source": [
    "#8.\n",
    "sr.std()"
   ]
  },
  {
   "cell_type": "code",
   "execution_count": 25,
   "id": "a2e66960",
   "metadata": {
    "scrolled": true
   },
   "outputs": [
    {
     "data": {
      "text/plain": [
       "홍길동     90\n",
       "이순신     90\n",
       "임꺽정     55\n",
       "정난정     60\n",
       "이이      76\n",
       "이황      80\n",
       "정도전     76\n",
       "김철수1    88\n",
       "Name: 국어점수, dtype: int64"
      ]
     },
     "execution_count": 25,
     "metadata": {},
     "output_type": "execute_result"
    }
   ],
   "source": [
    "#9.\n",
    "sr.drop(sr[sr<=40].index)"
   ]
  },
  {
   "cell_type": "code",
   "execution_count": 30,
   "id": "0a952997",
   "metadata": {
    "scrolled": true
   },
   "outputs": [
    {
     "data": {
      "text/plain": [
       "홍길동     99.0\n",
       "이순신     99.0\n",
       "임꺽정     60.5\n",
       "정난정     66.0\n",
       "이이      83.6\n",
       "이황      88.0\n",
       "정도전     83.6\n",
       "김철수1    96.8\n",
       "김철수2    36.0\n",
       "김철수3    30.0\n",
       "Name: 국어점수, dtype: float64"
      ]
     },
     "execution_count": 30,
     "metadata": {},
     "output_type": "execute_result"
    }
   ],
   "source": [
    "#10.\n",
    "sr.map(lambda v:v*1.10 if v>=50 else v*1.20)"
   ]
  },
  {
   "cell_type": "code",
   "execution_count": null,
   "id": "d459ce02",
   "metadata": {},
   "outputs": [],
   "source": [
    "# 11. 국어점수 top 5를 구하시요\n",
    "# 12. 국어점수가 50점이상인 데이터의 바차트를 그리시요\n",
    "# 13. 국어점수의 범위(0~50,50~70,70~100)별 돗수를 구하시요 \n",
    "# ( 범위, 0~50,50~70,70~100)\n",
    "# 14. 아래처럼 출력하시요(70점이상 합격 미만 불합격)\n",
    "# ========================\n",
    "# 이름     국어   합격여부\n",
    "# =========================\n",
    "# 홍길동   90      합격\n",
    "# 이순신   90      합격\n",
    "# ...."
   ]
  },
  {
   "cell_type": "code",
   "execution_count": 33,
   "id": "fdc1ca6d",
   "metadata": {
    "scrolled": true
   },
   "outputs": [
    {
     "data": {
      "text/plain": [
       "홍길동     90\n",
       "이순신     90\n",
       "김철수1    88\n",
       "이황      80\n",
       "이이      76\n",
       "정도전     76\n",
       "Name: 국어점수, dtype: int64"
      ]
     },
     "execution_count": 33,
     "metadata": {},
     "output_type": "execute_result"
    }
   ],
   "source": [
    "#11.\n",
    "sr.nlargest(5,keep='all')"
   ]
  },
  {
   "cell_type": "code",
   "execution_count": 55,
   "id": "d8c6b4b7",
   "metadata": {
    "scrolled": true
   },
   "outputs": [
    {
     "data": {
      "image/png": "[encoded data removed]",
      "text/plain": [
       "<Figure size 432x288 with 1 Axes>"
      ]
     },
     "metadata": {
      "needs_background": "light"
     },
     "output_type": "display_data"
    }
   ],
   "source": [
    "#12.\n",
    "sr[sr>=50].plot(kind='bar')\n",
    "plt.show()"
   ]
  },
  {
   "cell_type": "code",
   "execution_count": 58,
   "id": "5424a431",
   "metadata": {
    "scrolled": true
   },
   "outputs": [
    {
     "data": {
      "text/plain": [
       "(70, 100]    6\n",
       "(0, 50]      2\n",
       "(50, 70]     2\n",
       "Name: 국어점수, dtype: int64"
      ]
     },
     "execution_count": 58,
     "metadata": {},
     "output_type": "execute_result"
    }
   ],
   "source": [
    "#13.\n",
    "pd.cut(sr,[0,50,70,100]).value_counts()"
   ]
  },
  {
   "cell_type": "code",
   "execution_count": 76,
   "id": "07ca87b6",
   "metadata": {},
   "outputs": [
    {
     "name": "stdout",
     "output_type": "stream",
     "text": [
      "홍길동\t90\tpass\n",
      "이순신\t90\tpass\n",
      "임꺽정\t55\tx\n",
      "정난정\t60\tx\n",
      "이이\t76\tpass\n",
      "이황\t80\tpass\n",
      "정도전\t76\tpass\n",
      "김철수1\t88\tpass\n",
      "김철수2\t30\tx\n",
      "김철수3\t25\tx\n"
     ]
    }
   ],
   "source": [
    "#14.\n",
    "for i,v in sr.items():\n",
    "    if v >= 70:\n",
    "        x = \"pass\"\n",
    "    else:\n",
    "        x = \"x\"\n",
    "    print(i,v,x, sep='\\t')    "
   ]
  },
  {
   "cell_type": "code",
   "execution_count": 77,
   "id": "46b6e1b8",
   "metadata": {},
   "outputs": [
    {
     "name": "stdout",
     "output_type": "stream",
     "text": [
      "홍길동\t90\tpass\n",
      "이순신\t90\tpass\n",
      "임꺽정\t55\tx\n",
      "정난정\t60\tx\n",
      "이이\t76\tpass\n",
      "이황\t80\tpass\n",
      "정도전\t76\tpass\n",
      "김철수1\t88\tpass\n",
      "김철수2\t30\tx\n",
      "김철수3\t25\tx\n"
     ]
    }
   ],
   "source": [
    "for i,v in sr.items():\n",
    "    print(i,v,'pass' if v>=70 else 'x', sep='\\t')"
   ]
  }
 ],
 "metadata": {
  "kernelspec": {
   "display_name": "Python 3 (ipykernel)",
   "language": "python",
   "name": "python3"
  },
  "language_info": {
   "codemirror_mode": {
    "name": "ipython",
    "version": 3
   },
   "file_extension": ".py",
   "mimetype": "text/x-python",
   "name": "python",
   "nbconvert_exporter": "python",
   "pygments_lexer": "ipython3",
   "version": "3.8.10"
  }
 },
 "nbformat": 4,
 "nbformat_minor": 5
}
