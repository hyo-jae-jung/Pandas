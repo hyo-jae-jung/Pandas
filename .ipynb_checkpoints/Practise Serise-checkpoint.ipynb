{
 "cells": [
  {
   "cell_type": "code",
   "execution_count": 1,
   "id": "581cc342",
   "metadata": {},
   "outputs": [],
   "source": [
    "import pandas as pd\n",
    "import numpy as np\n",
    "import matplotlib.pyplot as plt\n",
    "import matplotlib\n",
    "matplotlib.rcParams['font.family']='Malgun Gothic'\n",
    "matplotlib.rcParams['axes.unicode_minus']=False"
   ]
  },
  {
   "cell_type": "code",
   "execution_count": 2,
   "id": "ccbcf51f",
   "metadata": {
    "scrolled": true
   },
   "outputs": [
    {
     "data": {
      "text/plain": [
       "홍길동     90\n",
       "이순신     90\n",
       "임꺽정     55\n",
       "정난정     60\n",
       "이이      76\n",
       "이황      80\n",
       "정도전     76\n",
       "김철수1    88\n",
       "김철수2    30\n",
       "김철수3    25\n",
       "Name: 국어점수, dtype: int64"
      ]
     },
     "execution_count": 2,
     "metadata": {},
     "output_type": "execute_result"
    }
   ],
   "source": [
    "sr = pd.Series( [90,90,55,60,76,80,76,88,30,25],\n",
    "               name=\"국어점수\" )\n",
    "sr.index=['홍길동','이순신','임꺽정','정난정',\n",
    "         '이이','이황','정도전','김철수1',\n",
    "          '김철수2','김철수3']\n",
    "sr"
   ]
  },
  {
   "cell_type": "code",
   "execution_count": 4,
   "id": "c3b25d96",
   "metadata": {},
   "outputs": [],
   "source": [
    "#( 연습문제 )\n",
    "#1. 국어점수가 가장큰값을 구하시요\n",
    "#2. 국어점수가 가장큰값의 이름을 구하시요\n",
    "#3. 국어점수가 80점이상인 값을 구하시요\n",
    "#4. 국어 점수가 50점이상 80점이하인 값을 구하시요\n",
    "#5. 이름이 김으로 시작하는 데이터를 구하시요"
   ]
  },
  {
   "cell_type": "code",
   "execution_count": 5,
   "id": "ebf9671c",
   "metadata": {},
   "outputs": [
    {
     "data": {
      "text/plain": [
       "90"
      ]
     },
     "execution_count": 5,
     "metadata": {},
     "output_type": "execute_result"
    }
   ],
   "source": [
    "#1.\n",
    "sr.max()"
   ]
  },
  {
   "cell_type": "code",
   "execution_count": 9,
   "id": "08a79cfb",
   "metadata": {
    "scrolled": false
   },
   "outputs": [
    {
     "data": {
      "text/plain": [
       "홍길동    90\n",
       "이순신    90\n",
       "Name: 국어점수, dtype: int64"
      ]
     },
     "execution_count": 9,
     "metadata": {},
     "output_type": "execute_result"
    }
   ],
   "source": [
    "#2.\n",
    "sr.nlargest(1,keep='all')"
   ]
  },
  {
   "cell_type": "code",
   "execution_count": 17,
   "id": "8295cdd6",
   "metadata": {
    "scrolled": true
   },
   "outputs": [
    {
     "data": {
      "text/plain": [
       "Index(['홍길동', '이순신', '이황', '김철수1'], dtype='object')"
      ]
     },
     "execution_count": 17,
     "metadata": {},
     "output_type": "execute_result"
    }
   ],
   "source": [
    "#3.\n",
    "sr[sr>=80].index"
   ]
  },
  {
   "cell_type": "code",
   "execution_count": 20,
   "id": "e4e69464",
   "metadata": {
    "scrolled": true
   },
   "outputs": [
    {
     "data": {
      "text/plain": [
       "array([55, 60, 76, 80, 76])"
      ]
     },
     "execution_count": 20,
     "metadata": {},
     "output_type": "execute_result"
    }
   ],
   "source": [
    "#4.\n",
    "sr[(sr>=50) &(sr<=80)].values"
   ]
  },
  {
   "cell_type": "code",
   "execution_count": 24,
   "id": "52001da2",
   "metadata": {},
   "outputs": [
    {
     "data": {
      "text/plain": [
       "김철수1    88\n",
       "김철수2    30\n",
       "김철수3    25\n",
       "Name: 국어점수, dtype: int64"
      ]
     },
     "execution_count": 24,
     "metadata": {},
     "output_type": "execute_result"
    }
   ],
   "source": [
    "#5.\n",
    "sr[sr.index.str.contains('^김')]"
   ]
  }
 ],
 "metadata": {
  "kernelspec": {
   "display_name": "Python 3 (ipykernel)",
   "language": "python",
   "name": "python3"
  },
  "language_info": {
   "codemirror_mode": {
    "name": "ipython",
    "version": 3
   },
   "file_extension": ".py",
   "mimetype": "text/x-python",
   "name": "python",
   "nbconvert_exporter": "python",
   "pygments_lexer": "ipython3",
   "version": "3.8.10"
  }
 },
 "nbformat": 4,
 "nbformat_minor": 5
}
