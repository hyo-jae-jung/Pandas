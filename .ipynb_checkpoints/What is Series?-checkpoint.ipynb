{
 "cells": [
  {
   "cell_type": "code",
   "execution_count": 37,
   "id": "b90bcf31",
   "metadata": {},
   "outputs": [
    {
     "name": "stdout",
     "output_type": "stream",
     "text": [
      "a    10.0\n",
      "b    20.0\n",
      "c    30.0\n",
      "d    40.0\n",
      "e    50.0\n",
      "Name: test, dtype: float32\n",
      "test\n",
      "1\n",
      "(5,)\n",
      "5\n",
      "float32\n",
      "Index(['a', 'b', 'c', 'd', 'e'], dtype='object')\n",
      "b    20.0\n",
      "c    30.0\n",
      "Name: test, dtype: float32\n",
      "b    20.0\n",
      "c    30.0\n",
      "d    40.0\n",
      "Name: test, dtype: float32\n",
      "b    20.0\n",
      "c    30.0\n",
      "d    40.0\n",
      "Name: test, dtype: float32\n",
      "a    10.0\n",
      "b    20.0\n",
      "c    30.0\n",
      "Name: test, dtype: float32\n"
     ]
    }
   ],
   "source": [
    "import pandas as pd\n",
    "import numpy as np\n",
    "\n",
    "data1 = [10,20,30,40,50]\n",
    "data2 = (1,2,3,4,5)\n",
    "data3 = {\"aa\":11,\"bb\":22,\"cc\":33,\"dd\":44,\"ee\":55}\n",
    "\n",
    "sr = pd.Series(data1, name=\"test\", index=['a','b','c','d','e'], dtype='float32')\n",
    "\n",
    "print(sr)\n",
    "\n",
    "# I think if i want to know about series,\n",
    "# refer to pandas official pandas document(https://pandas.pydata.org/pandas-docs/stable/reference/api/pandas.Series.html)\n",
    "\n",
    "print(sr.name)\n",
    "\n",
    "print(sr.ndim) # demension\n",
    "\n",
    "print(sr.shape) # (row number, column number)\n",
    "\n",
    "print(sr.size) # row number * column number\n",
    "\n",
    "print(sr.dtype) # type\n",
    "\n",
    "print(sr.index)\n",
    "\n",
    "print(sr[1:3:1]) # [start arg:end arg:weghted value]\n",
    "print(sr['b':'d'])\n",
    "print(sr.iloc[1:-1]) # zero base\n",
    "print(sr.loc['a':'c']) # input data base"
   ]
  }
 ],
 "metadata": {
  "kernelspec": {
   "display_name": "Python 3 (ipykernel)",
   "language": "python",
   "name": "python3"
  },
  "language_info": {
   "codemirror_mode": {
    "name": "ipython",
    "version": 3
   },
   "file_extension": ".py",
   "mimetype": "text/x-python",
   "name": "python",
   "nbconvert_exporter": "python",
   "pygments_lexer": "ipython3",
   "version": "3.8.10"
  }
 },
 "nbformat": 4,
 "nbformat_minor": 5
}
