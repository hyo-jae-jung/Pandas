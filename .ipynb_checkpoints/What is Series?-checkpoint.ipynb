{
 "cells": [
  {
   "cell_type": "code",
   "execution_count": 1,
   "id": "b90bcf31",
   "metadata": {},
   "outputs": [
    {
     "name": "stdout",
     "output_type": "stream",
     "text": [
      "a    10.0\n",
      "b    20.0\n",
      "c    30.0\n",
      "d    40.0\n",
      "e    50.0\n",
      "Name: test, dtype: float32\n",
      "test\n",
      "1\n",
      "(5,)\n",
      "5\n",
      "float32\n",
      "Index(['a', 'b', 'c', 'd', 'e'], dtype='object')\n"
     ]
    }
   ],
   "source": [
    "import pandas as pd\n",
    "import numpy as np\n",
    "\n",
    "data1 = [10,20,30,40,50]\n",
    "data2 = (1,2,3,4,5)\n",
    "data3 = {\"aa\":11,\"bb\":22,\"cc\":33,\"dd\":44,\"ee\":55}\n",
    "\n",
    "sr = pd.Series(data1, name=\"test\", index=['a','b','c','d','e'], dtype='float32')\n",
    "\n",
    "print(sr)\n",
    "\n",
    "# I think if i want to know about series,\n",
    "# refer to pandas official pandas document(https://pandas.pydata.org/pandas-docs/stable/reference/api/pandas.Series.html)\n",
    "\n",
    "print(sr.name)\n",
    "\n",
    "print(sr.ndim) # demension\n",
    "\n",
    "print(sr.shape) # (row number, column number)\n",
    "\n",
    "print(sr.size) # row number * column number\n",
    "\n",
    "print(sr.dtype) # type\n",
    "\n",
    "print(sr.index)"
   ]
  },
  {
   "cell_type": "code",
   "execution_count": 2,
   "id": "bed11856",
   "metadata": {},
   "outputs": [
    {
     "name": "stdout",
     "output_type": "stream",
     "text": [
      "b    20.0\n",
      "c    30.0\n",
      "Name: test, dtype: float32\n",
      "b    20.0\n",
      "c    30.0\n",
      "d    40.0\n",
      "Name: test, dtype: float32\n",
      "b    20.0\n",
      "c    30.0\n",
      "d    40.0\n",
      "Name: test, dtype: float32\n",
      "a    10.0\n",
      "b    20.0\n",
      "c    30.0\n",
      "Name: test, dtype: float32\n"
     ]
    }
   ],
   "source": [
    "# slicing\n",
    "print(sr[1:3:1]) # [start arg:end arg:weghted value]\n",
    "print(sr['b':'d'])\n",
    "print(sr.iloc[1:-1]) # zero base\n",
    "print(sr.loc['a':'c']) # input data base"
   ]
  },
  {
   "cell_type": "code",
   "execution_count": 17,
   "id": "96ee73b3",
   "metadata": {},
   "outputs": [
    {
     "name": "stdout",
     "output_type": "stream",
     "text": [
      "a    11.0\n",
      "b    21.0\n",
      "c    31.0\n",
      "d    41.0\n",
      "e    51.0\n",
      "Name: test, dtype: float32\n",
      "a    10.0\n",
      "b    20.0\n",
      "e    50.0\n",
      "Name: test, dtype: float32\n",
      "c    30.0\n",
      "d    40.0\n",
      "e    50.0\n",
      "Name: test, dtype: float32\n",
      "b    20.0\n",
      "d    40.0\n",
      "Name: test, dtype: float32\n",
      "a    10.0\n",
      "d    40.0\n",
      "Name: test, dtype: float32\n",
      "10.0\n"
     ]
    }
   ],
   "source": [
    "# arithmetic operation\n",
    "print(sr + 1)"
   ]
  },
  {
   "cell_type": "code",
   "execution_count": 19,
   "id": "5165596f",
   "metadata": {},
   "outputs": [
    {
     "name": "stdout",
     "output_type": "stream",
     "text": [
      "c    30.0\n",
      "d    40.0\n",
      "e    50.0\n",
      "Name: test, dtype: float32\n",
      "a    10.0\n",
      "b    20.0\n",
      "e    50.0\n",
      "Name: test, dtype: float32\n"
     ]
    }
   ],
   "source": [
    "# relational operation\n",
    "print(sr[sr >= 30])\n",
    "print(sr[[True,True,False,False,True]])"
   ]
  },
  {
   "cell_type": "code",
   "execution_count": 22,
   "id": "a6c36760",
   "metadata": {},
   "outputs": [
    {
     "data": {
      "text/plain": [
       "b    20.0\n",
       "Name: test, dtype: float32"
      ]
     },
     "execution_count": 22,
     "metadata": {},
     "output_type": "execute_result"
    }
   ],
   "source": [
    "# logical operation\n",
    "sr[(sr>=30) | (sr<=10)] # or\n",
    "sr[(sr>=30) & (sr<=10)] # and\n",
    "sr[~((sr>=30) | (sr<=10))] # not"
   ]
  },
  {
   "cell_type": "code",
   "execution_count": 44,
   "id": "efdbe6c5",
   "metadata": {
    "scrolled": false
   },
   "outputs": [
    {
     "name": "stdout",
     "output_type": "stream",
     "text": [
      "b     20.0\n",
      "c     30.0\n",
      "d     40.0\n",
      "e     50.0\n",
      "a    100.0\n",
      "Name: test, dtype: float64\n",
      "a    100.0\n",
      "b     20.0\n",
      "c     30.0\n",
      "d     40.0\n",
      "e     50.0\n",
      "Name: test, dtype: float64\n",
      "a    100.0\n",
      "b     20.0\n",
      "c     30.0\n",
      "d     40.0\n",
      "e     50.0\n",
      "f      5.0\n",
      "g     25.0\n",
      "Name: test, dtype: float64\n",
      "a    100.0\n",
      "b     20.0\n",
      "c     30.0\n",
      "d     40.0\n",
      "e     50.0\n",
      "Name: test, dtype: float64\n"
     ]
    }
   ],
   "source": [
    "#CRUD(create, read, update, delete)\n",
    "# create\n",
    "# I think create means to make sr , row value or whatever.\n",
    "\n",
    "# read\n",
    "# slicing is read operation.\n",
    "print(sr.sort_values())\n",
    "print(sr.sort_index())\n",
    "\n",
    "# update\n",
    "sr['a'] = 100\n",
    "sr['f'] = 5\n",
    "sr['g'] = 25\n",
    "print(sr)\n",
    "\n",
    "#delete\n",
    "sr = sr.drop(['f','g'])\n",
    "sr = sr.drop(sr[sr == None])\n",
    "print(sr)"
   ]
  },
  {
   "cell_type": "code",
   "execution_count": 67,
   "id": "b458041c",
   "metadata": {},
   "outputs": [
    {
     "data": {
      "text/plain": [
       "aa    홍길동\n",
       "bb    이순신\n",
       "cc    김철수\n",
       "dd    김순이\n",
       "ee    이홍김\n",
       "dtype: object"
      ]
     },
     "execution_count": 67,
     "metadata": {},
     "output_type": "execute_result"
    }
   ],
   "source": [
    "# text regular pattern\n",
    "sr = pd.Series(['홍길동','이순신','김철수','김순이',\n",
    "               '이홍김'] )\n",
    "sr.index=['aa','bb','cc','dd','ee']\n",
    "sr\n",
    "sr[ sr=='이순신' ]\n",
    "sr.str\n",
    "sr.str[0]\n",
    "sr.str[1:]\n",
    "sr.str[:-1]\n",
    "sr[ sr.str.contains( '김' ) ]\n",
    "sr[ sr.str.contains( '^김' ) ] # ^ means start.\n",
    "sr[ sr.str.contains( '김$' ) ]# $ means end.\n",
    "sr[ sr.str.contains( '김[철순]' ) ] # [] means character group. contaions method selects row values which contain one of character or more.\n",
    "sr[ sr.str.contains( '순신|철수' ) ]\n",
    "sr.str.replace('^김','황',regex = False)"
   ]
  }
 ],
 "metadata": {
  "kernelspec": {
   "display_name": "Python 3 (ipykernel)",
   "language": "python",
   "name": "python3"
  },
  "language_info": {
   "codemirror_mode": {
    "name": "ipython",
    "version": 3
   },
   "file_extension": ".py",
   "mimetype": "text/x-python",
   "name": "python",
   "nbconvert_exporter": "python",
   "pygments_lexer": "ipython3",
   "version": "3.8.10"
  }
 },
 "nbformat": 4,
 "nbformat_minor": 5
}
