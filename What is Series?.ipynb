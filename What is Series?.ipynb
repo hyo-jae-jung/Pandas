{
 "cells": [
  {
   "cell_type": "code",
   "execution_count": 55,
   "id": "b90bcf31",
   "metadata": {},
   "outputs": [
    {
     "name": "stdout",
     "output_type": "stream",
     "text": [
      "a    10.0\n",
      "b    20.0\n",
      "c    30.0\n",
      "d    40.0\n",
      "e    50.0\n",
      "Name: test, dtype: float32\n",
      "test\n",
      "1\n",
      "(5,)\n",
      "5\n",
      "float32\n",
      "Index(['a', 'b', 'c', 'd', 'e'], dtype='object')\n"
     ]
    }
   ],
   "source": [
    "import pandas as pd\n",
    "import numpy as np\n",
    "import matplotlib.pyplot as plt\n",
    "\n",
    "\n",
    "data1 = [10,20,30,40,50]\n",
    "data2 = (1,2,3,4,5)\n",
    "data3 = {\"aa\":11,\"bb\":22,\"cc\":33,\"dd\":44,\"ee\":55}\n",
    "\n",
    "sr = pd.Series(data1, name=\"test\", index=['a','b','c','d','e'], dtype='float32')\n",
    "\n",
    "print(sr)\n",
    "\n",
    "# I think if i want to know about series,\n",
    "# refer to pandas official pandas document(https://pandas.pydata.org/pandas-docs/stable/reference/api/pandas.Series.html)\n",
    "\n",
    "print(sr.name)\n",
    "\n",
    "print(sr.ndim) # demension\n",
    "\n",
    "print(sr.shape) # (row number, column number)\n",
    "\n",
    "print(sr.size) # row number * column number\n",
    "\n",
    "print(sr.dtype) # type\n",
    "\n",
    "print(sr.index)"
   ]
  },
  {
   "cell_type": "code",
   "execution_count": 2,
   "id": "bed11856",
   "metadata": {},
   "outputs": [
    {
     "name": "stdout",
     "output_type": "stream",
     "text": [
      "b    20.0\n",
      "c    30.0\n",
      "Name: test, dtype: float32\n",
      "b    20.0\n",
      "c    30.0\n",
      "d    40.0\n",
      "Name: test, dtype: float32\n",
      "b    20.0\n",
      "c    30.0\n",
      "d    40.0\n",
      "Name: test, dtype: float32\n",
      "a    10.0\n",
      "b    20.0\n",
      "c    30.0\n",
      "Name: test, dtype: float32\n"
     ]
    }
   ],
   "source": [
    "# slicing\n",
    "print(sr[1:3:1]) # [start arg:end arg:weghted value]\n",
    "print(sr['b':'d'])\n",
    "print(sr.iloc[1:-1]) # zero base\n",
    "print(sr.loc['a':'c']) # input data base"
   ]
  },
  {
   "cell_type": "code",
   "execution_count": 17,
   "id": "96ee73b3",
   "metadata": {},
   "outputs": [
    {
     "name": "stdout",
     "output_type": "stream",
     "text": [
      "a    11.0\n",
      "b    21.0\n",
      "c    31.0\n",
      "d    41.0\n",
      "e    51.0\n",
      "Name: test, dtype: float32\n",
      "a    10.0\n",
      "b    20.0\n",
      "e    50.0\n",
      "Name: test, dtype: float32\n",
      "c    30.0\n",
      "d    40.0\n",
      "e    50.0\n",
      "Name: test, dtype: float32\n",
      "b    20.0\n",
      "d    40.0\n",
      "Name: test, dtype: float32\n",
      "a    10.0\n",
      "d    40.0\n",
      "Name: test, dtype: float32\n",
      "10.0\n"
     ]
    }
   ],
   "source": [
    "# arithmetic operation\n",
    "print(sr + 1)"
   ]
  },
  {
   "cell_type": "code",
   "execution_count": 19,
   "id": "5165596f",
   "metadata": {},
   "outputs": [
    {
     "name": "stdout",
     "output_type": "stream",
     "text": [
      "c    30.0\n",
      "d    40.0\n",
      "e    50.0\n",
      "Name: test, dtype: float32\n",
      "a    10.0\n",
      "b    20.0\n",
      "e    50.0\n",
      "Name: test, dtype: float32\n"
     ]
    }
   ],
   "source": [
    "# relational operation\n",
    "print(sr[sr >= 30])\n",
    "print(sr[[True,True,False,False,True]])"
   ]
  },
  {
   "cell_type": "code",
   "execution_count": 22,
   "id": "a6c36760",
   "metadata": {},
   "outputs": [
    {
     "data": {
      "text/plain": [
       "b    20.0\n",
       "Name: test, dtype: float32"
      ]
     },
     "execution_count": 22,
     "metadata": {},
     "output_type": "execute_result"
    }
   ],
   "source": [
    "# logical operation\n",
    "sr[(sr>=30) | (sr<=10)] # or\n",
    "sr[(sr>=30) & (sr<=10)] # and\n",
    "sr[~((sr>=30) | (sr<=10))] # not"
   ]
  },
  {
   "cell_type": "code",
   "execution_count": 44,
   "id": "efdbe6c5",
   "metadata": {
    "scrolled": false
   },
   "outputs": [
    {
     "name": "stdout",
     "output_type": "stream",
     "text": [
      "b     20.0\n",
      "c     30.0\n",
      "d     40.0\n",
      "e     50.0\n",
      "a    100.0\n",
      "Name: test, dtype: float64\n",
      "a    100.0\n",
      "b     20.0\n",
      "c     30.0\n",
      "d     40.0\n",
      "e     50.0\n",
      "Name: test, dtype: float64\n",
      "a    100.0\n",
      "b     20.0\n",
      "c     30.0\n",
      "d     40.0\n",
      "e     50.0\n",
      "f      5.0\n",
      "g     25.0\n",
      "Name: test, dtype: float64\n",
      "a    100.0\n",
      "b     20.0\n",
      "c     30.0\n",
      "d     40.0\n",
      "e     50.0\n",
      "Name: test, dtype: float64\n"
     ]
    }
   ],
   "source": [
    "#CRUD(create, read, update, delete)\n",
    "# create\n",
    "# I think create means to make sr , row value or whatever.\n",
    "\n",
    "# read\n",
    "# slicing is read operation.\n",
    "print(sr.sort_values())\n",
    "print(sr.sort_index())\n",
    "\n",
    "# update\n",
    "sr['a'] = 100\n",
    "sr['f'] = 5\n",
    "sr['g'] = 25\n",
    "print(sr)\n",
    "\n",
    "#delete\n",
    "sr = sr.drop(['f','g'])\n",
    "sr = sr.drop(sr[sr == None])\n",
    "print(sr)"
   ]
  },
  {
   "cell_type": "code",
   "execution_count": 67,
   "id": "b458041c",
   "metadata": {
    "scrolled": true
   },
   "outputs": [
    {
     "data": {
      "text/plain": [
       "aa    홍길동\n",
       "bb    이순신\n",
       "cc    김철수\n",
       "dd    김순이\n",
       "ee    이홍김\n",
       "dtype: object"
      ]
     },
     "execution_count": 67,
     "metadata": {},
     "output_type": "execute_result"
    }
   ],
   "source": [
    "# text regular pattern\n",
    "sr = pd.Series(['홍길동','이순신','김철수','김순이',\n",
    "               '이홍김'] )\n",
    "sr.index=['aa','bb','cc','dd','ee']\n",
    "sr\n",
    "sr[ sr=='이순신' ]\n",
    "sr.str\n",
    "sr.str[0]\n",
    "sr.str[1:]\n",
    "sr.str[:-1]\n",
    "sr[ sr.str.contains( '김' ) ]\n",
    "sr[ sr.str.contains( '^김' ) ] # ^ means start.\n",
    "sr[ sr.str.contains( '김$' ) ]# $ means end.\n",
    "sr[ sr.str.contains( '김[철순]' ) ] # [] means character group. contaions method selects row values which contain one of character or more.\n",
    "sr[ sr.str.contains( '순신|철수' ) ]\n",
    "sr.str.replace('^김','황',regex = False)"
   ]
  },
  {
   "cell_type": "code",
   "execution_count": 21,
   "id": "d9138173",
   "metadata": {
    "scrolled": true
   },
   "outputs": [
    {
     "data": {
      "text/plain": [
       "a    10\n",
       "b    20\n",
       "c    30\n",
       "d    40\n",
       "e    50\n",
       "Name: kor, dtype: int64"
      ]
     },
     "execution_count": 21,
     "metadata": {},
     "output_type": "execute_result"
    }
   ],
   "source": [
    "data = [10,20,30,40,50]\n",
    "sr = pd.Series(data, index=['a','b','c','d','e'],name='kor')\n",
    "sr"
   ]
  },
  {
   "cell_type": "code",
   "execution_count": 6,
   "id": "5c9085a3",
   "metadata": {
    "scrolled": true
   },
   "outputs": [
    {
     "data": {
      "text/plain": [
       "50"
      ]
     },
     "execution_count": 6,
     "metadata": {},
     "output_type": "execute_result"
    }
   ],
   "source": [
    "sr.max()"
   ]
  },
  {
   "cell_type": "code",
   "execution_count": 7,
   "id": "62a1f987",
   "metadata": {},
   "outputs": [
    {
     "data": {
      "text/plain": [
       "10"
      ]
     },
     "execution_count": 7,
     "metadata": {},
     "output_type": "execute_result"
    }
   ],
   "source": [
    "sr.min()"
   ]
  },
  {
   "cell_type": "code",
   "execution_count": 8,
   "id": "2b7fe577",
   "metadata": {
    "scrolled": true
   },
   "outputs": [
    {
     "data": {
      "text/plain": [
       "'e'"
      ]
     },
     "execution_count": 8,
     "metadata": {},
     "output_type": "execute_result"
    }
   ],
   "source": [
    "sr.idxmax()"
   ]
  },
  {
   "cell_type": "code",
   "execution_count": 9,
   "id": "6964b442",
   "metadata": {
    "scrolled": true
   },
   "outputs": [
    {
     "data": {
      "text/plain": [
       "40"
      ]
     },
     "execution_count": 9,
     "metadata": {},
     "output_type": "execute_result"
    }
   ],
   "source": [
    "sr1 = sr[ sr<=45]\n",
    "sr1.max()"
   ]
  },
  {
   "cell_type": "code",
   "execution_count": 10,
   "id": "3ff43699",
   "metadata": {
    "scrolled": true
   },
   "outputs": [
    {
     "data": {
      "text/plain": [
       "a    10\n",
       "b    20\n",
       "Name: kor, dtype: int64"
      ]
     },
     "execution_count": 10,
     "metadata": {},
     "output_type": "execute_result"
    }
   ],
   "source": [
    "sr.head(2)"
   ]
  },
  {
   "cell_type": "code",
   "execution_count": 11,
   "id": "691d2adb",
   "metadata": {
    "scrolled": true
   },
   "outputs": [
    {
     "data": {
      "text/plain": [
       "d    40\n",
       "e    50\n",
       "Name: kor, dtype: int64"
      ]
     },
     "execution_count": 11,
     "metadata": {},
     "output_type": "execute_result"
    }
   ],
   "source": [
    "sr.tail(2)"
   ]
  },
  {
   "cell_type": "code",
   "execution_count": 12,
   "id": "4507c713",
   "metadata": {
    "scrolled": true
   },
   "outputs": [
    {
     "data": {
      "text/plain": [
       "e    50\n",
       "d    40\n",
       "c    30\n",
       "Name: kor, dtype: int64"
      ]
     },
     "execution_count": 12,
     "metadata": {},
     "output_type": "execute_result"
    }
   ],
   "source": [
    "sr.nlargest(3)"
   ]
  },
  {
   "cell_type": "code",
   "execution_count": 29,
   "id": "fa38cdb9",
   "metadata": {},
   "outputs": [],
   "source": [
    "sr['b'] = 30"
   ]
  },
  {
   "cell_type": "code",
   "execution_count": 14,
   "id": "564f4a41",
   "metadata": {
    "scrolled": true
   },
   "outputs": [
    {
     "data": {
      "text/plain": [
       "e    50\n",
       "d    40\n",
       "b    30\n",
       "Name: kor, dtype: int64"
      ]
     },
     "execution_count": 14,
     "metadata": {},
     "output_type": "execute_result"
    }
   ],
   "source": [
    "sr.nlargest(3)"
   ]
  },
  {
   "cell_type": "code",
   "execution_count": 15,
   "id": "d1a16e2e",
   "metadata": {
    "scrolled": true
   },
   "outputs": [
    {
     "data": {
      "text/plain": [
       "e    50\n",
       "d    40\n",
       "c    30\n",
       "Name: kor, dtype: int64"
      ]
     },
     "execution_count": 15,
     "metadata": {},
     "output_type": "execute_result"
    }
   ],
   "source": [
    "sr.nlargest(3,keep='last')"
   ]
  },
  {
   "cell_type": "code",
   "execution_count": 16,
   "id": "ed21efeb",
   "metadata": {
    "scrolled": true
   },
   "outputs": [
    {
     "data": {
      "text/plain": [
       "e    50\n",
       "d    40\n",
       "b    30\n",
       "c    30\n",
       "Name: kor, dtype: int64"
      ]
     },
     "execution_count": 16,
     "metadata": {},
     "output_type": "execute_result"
    }
   ],
   "source": [
    "sr.nlargest(3,keep='all')"
   ]
  },
  {
   "cell_type": "code",
   "execution_count": 17,
   "id": "853874d3",
   "metadata": {
    "scrolled": true
   },
   "outputs": [
    {
     "data": {
      "text/plain": [
       "a    10\n",
       "b    30\n",
       "Name: kor, dtype: int64"
      ]
     },
     "execution_count": 17,
     "metadata": {},
     "output_type": "execute_result"
    }
   ],
   "source": [
    "sr.nsmallest(2)"
   ]
  },
  {
   "cell_type": "code",
   "execution_count": 23,
   "id": "bc9eff5b",
   "metadata": {
    "scrolled": true
   },
   "outputs": [
    {
     "data": {
      "text/plain": [
       "150"
      ]
     },
     "execution_count": 23,
     "metadata": {},
     "output_type": "execute_result"
    }
   ],
   "source": [
    "sr.sum()"
   ]
  },
  {
   "cell_type": "code",
   "execution_count": 22,
   "id": "850f3b25",
   "metadata": {
    "scrolled": true
   },
   "outputs": [
    {
     "data": {
      "text/plain": [
       "30.0"
      ]
     },
     "execution_count": 22,
     "metadata": {},
     "output_type": "execute_result"
    }
   ],
   "source": [
    "sr.mean()"
   ]
  },
  {
   "cell_type": "code",
   "execution_count": 24,
   "id": "91627b97",
   "metadata": {},
   "outputs": [
    {
     "data": {
      "text/plain": [
       "30.0"
      ]
     },
     "execution_count": 24,
     "metadata": {},
     "output_type": "execute_result"
    }
   ],
   "source": [
    "sr.median()"
   ]
  },
  {
   "cell_type": "code",
   "execution_count": 25,
   "id": "84e5420f",
   "metadata": {
    "scrolled": true
   },
   "outputs": [
    {
     "data": {
      "text/plain": [
       "0.25    20.0\n",
       "0.50    30.0\n",
       "0.75    40.0\n",
       "Name: kor, dtype: float64"
      ]
     },
     "execution_count": 25,
     "metadata": {},
     "output_type": "execute_result"
    }
   ],
   "source": [
    "sr.quantile([0.25,0.5,0.75])"
   ]
  },
  {
   "cell_type": "code",
   "execution_count": 26,
   "id": "711588ba",
   "metadata": {
    "scrolled": true
   },
   "outputs": [
    {
     "data": {
      "text/plain": [
       "15.811388300841896"
      ]
     },
     "execution_count": 26,
     "metadata": {},
     "output_type": "execute_result"
    }
   ],
   "source": [
    "sr.std()"
   ]
  },
  {
   "cell_type": "code",
   "execution_count": 27,
   "id": "79a41842",
   "metadata": {
    "scrolled": true
   },
   "outputs": [
    {
     "data": {
      "text/plain": [
       "array([10, 20, 30, 40, 50])"
      ]
     },
     "execution_count": 27,
     "metadata": {},
     "output_type": "execute_result"
    }
   ],
   "source": [
    "sr.unique()"
   ]
  },
  {
   "cell_type": "code",
   "execution_count": 30,
   "id": "e439cfbc",
   "metadata": {
    "scrolled": true
   },
   "outputs": [
    {
     "data": {
      "text/plain": [
       "30    2\n",
       "10    1\n",
       "40    1\n",
       "50    1\n",
       "Name: kor, dtype: int64"
      ]
     },
     "execution_count": 30,
     "metadata": {},
     "output_type": "execute_result"
    }
   ],
   "source": [
    "sr.value_counts()"
   ]
  },
  {
   "cell_type": "code",
   "execution_count": 31,
   "id": "7b4cfd67",
   "metadata": {},
   "outputs": [],
   "source": [
    "def fn(v):\n",
    "    return v+1 if v<30 else v+2"
   ]
  },
  {
   "cell_type": "code",
   "execution_count": 32,
   "id": "12273e6b",
   "metadata": {
    "scrolled": true
   },
   "outputs": [
    {
     "data": {
      "text/plain": [
       "a    11\n",
       "b    32\n",
       "c    32\n",
       "d    42\n",
       "e    52\n",
       "Name: kor, dtype: int64"
      ]
     },
     "execution_count": 32,
     "metadata": {},
     "output_type": "execute_result"
    }
   ],
   "source": [
    "sr.apply( fn ) # = sr.map(fn)"
   ]
  },
  {
   "cell_type": "code",
   "execution_count": 33,
   "id": "852ea528",
   "metadata": {
    "scrolled": true
   },
   "outputs": [
    {
     "data": {
      "text/plain": [
       "a    11\n",
       "b    32\n",
       "c    32\n",
       "d    42\n",
       "e    52\n",
       "Name: kor, dtype: int64"
      ]
     },
     "execution_count": 33,
     "metadata": {},
     "output_type": "execute_result"
    }
   ],
   "source": [
    "sr.apply( lambda v: v+1 if v<30 else v+2 )"
   ]
  },
  {
   "cell_type": "code",
   "execution_count": 34,
   "id": "10870332",
   "metadata": {
    "scrolled": true
   },
   "outputs": [
    {
     "data": {
      "text/plain": [
       "a     (0, 20]\n",
       "b    (20, 40]\n",
       "c    (20, 40]\n",
       "d    (20, 40]\n",
       "e    (40, 90]\n",
       "Name: kor, dtype: category\n",
       "Categories (3, interval[int64, right]): [(0, 20] < (20, 40] < (40, 90]]"
      ]
     },
     "execution_count": 34,
     "metadata": {},
     "output_type": "execute_result"
    }
   ],
   "source": [
    "pd.cut(sr,[0,20,40,90] )"
   ]
  },
  {
   "cell_type": "code",
   "execution_count": 35,
   "id": "5a72d236",
   "metadata": {
    "scrolled": true
   },
   "outputs": [
    {
     "data": {
      "text/plain": [
       "a    C\n",
       "b    B\n",
       "c    B\n",
       "d    B\n",
       "e    A\n",
       "Name: kor, dtype: category\n",
       "Categories (3, object): ['C' < 'B' < 'A']"
      ]
     },
     "execution_count": 35,
     "metadata": {},
     "output_type": "execute_result"
    }
   ],
   "source": [
    "pd.cut(sr,[0,20,40,90], labels=['C','B','A'] )"
   ]
  },
  {
   "cell_type": "code",
   "execution_count": 36,
   "id": "921ab24c",
   "metadata": {
    "scrolled": true
   },
   "outputs": [
    {
     "data": {
      "text/plain": [
       "(20, 40]    3\n",
       "(0, 20]     1\n",
       "(40, 90]    1\n",
       "Name: kor, dtype: int64"
      ]
     },
     "execution_count": 36,
     "metadata": {},
     "output_type": "execute_result"
    }
   ],
   "source": [
    "pd.cut(sr,[0,20,40,90]).value_counts()"
   ]
  },
  {
   "cell_type": "code",
   "execution_count": 37,
   "id": "77d0c5a5",
   "metadata": {},
   "outputs": [],
   "source": [
    "sr.to_csv('a.csv')"
   ]
  },
  {
   "cell_type": "code",
   "execution_count": 57,
   "id": "2e0137b2",
   "metadata": {
    "scrolled": true
   },
   "outputs": [
    {
     "data": {
      "image/png": "[encoded data removed]",
      "text/plain": [
       "<Figure size 432x288 with 1 Axes>"
      ]
     },
     "metadata": {
      "needs_background": "light"
     },
     "output_type": "display_data"
    }
   ],
   "source": [
    "sr.plot()\n",
    "plt.show()"
   ]
  },
  {
   "cell_type": "code",
   "execution_count": 56,
   "id": "41853790",
   "metadata": {
    "scrolled": true
   },
   "outputs": [
    {
     "data": {
      "image/png": "[encoded data removed]",
      "text/plain": [
       "<Figure size 216x216 with 1 Axes>"
      ]
     },
     "metadata": {
      "needs_background": "light"
     },
     "output_type": "display_data"
    }
   ],
   "source": [
    "sr.plot(kind='bar',figsize=(3,3),title='score',grid =True,\n",
    "       legend=True, ylim=(0,100))\n",
    "plt.show()"
   ]
  },
  {
   "cell_type": "code",
   "execution_count": 47,
   "id": "cf38581d",
   "metadata": {
    "scrolled": true
   },
   "outputs": [
    {
     "name": "stdout",
     "output_type": "stream",
     "text": [
      "10.0\n",
      "20.0\n",
      "30.0\n",
      "40.0\n",
      "50.0\n"
     ]
    }
   ],
   "source": [
    "for n in sr: #sr.values\n",
    "    print(n)"
   ]
  },
  {
   "cell_type": "code",
   "execution_count": 48,
   "id": "87fd21d5",
   "metadata": {
    "scrolled": true
   },
   "outputs": [
    {
     "name": "stdout",
     "output_type": "stream",
     "text": [
      "a\n",
      "b\n",
      "c\n",
      "d\n",
      "e\n"
     ]
    }
   ],
   "source": [
    "for n in sr.index:\n",
    "    print(n)"
   ]
  },
  {
   "cell_type": "code",
   "execution_count": 49,
   "id": "2eac8952",
   "metadata": {
    "scrolled": true
   },
   "outputs": [
    {
     "name": "stdout",
     "output_type": "stream",
     "text": [
      "('a', 10.0)\n",
      "('b', 20.0)\n",
      "('c', 30.0)\n",
      "('d', 40.0)\n",
      "('e', 50.0)\n"
     ]
    }
   ],
   "source": [
    "for n in sr.items():\n",
    "    print(n)"
   ]
  },
  {
   "cell_type": "code",
   "execution_count": 50,
   "id": "a95be8e4",
   "metadata": {
    "scrolled": true
   },
   "outputs": [
    {
     "name": "stdout",
     "output_type": "stream",
     "text": [
      "a 10.0\n",
      "b 20.0\n",
      "c 30.0\n",
      "d 40.0\n",
      "e 50.0\n"
     ]
    }
   ],
   "source": [
    "for i,v in sr.items():\n",
    "    print(i,v)"
   ]
  },
  {
   "cell_type": "code",
   "execution_count": 51,
   "id": "27f22bb5",
   "metadata": {},
   "outputs": [],
   "source": [
    "sr['b'] = 30"
   ]
  },
  {
   "cell_type": "code",
   "execution_count": 52,
   "id": "57313ea2",
   "metadata": {},
   "outputs": [
    {
     "data": {
      "text/plain": [
       "a    10.0\n",
       "b    30.0\n",
       "c    30.0\n",
       "d    40.0\n",
       "e    50.0\n",
       "Name: test, dtype: float32"
      ]
     },
     "execution_count": 52,
     "metadata": {},
     "output_type": "execute_result"
    }
   ],
   "source": [
    "sr"
   ]
  }
 ],
 "metadata": {
  "kernelspec": {
   "display_name": "Python 3 (ipykernel)",
   "language": "python",
   "name": "python3"
  },
  "language_info": {
   "codemirror_mode": {
    "name": "ipython",
    "version": 3
   },
   "file_extension": ".py",
   "mimetype": "text/x-python",
   "name": "python",
   "nbconvert_exporter": "python",
   "pygments_lexer": "ipython3",
   "version": "3.8.10"
  }
 },
 "nbformat": 4,
 "nbformat_minor": 5
}
