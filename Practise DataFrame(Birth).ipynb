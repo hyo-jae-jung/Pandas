{
 "cells": [
  {
   "cell_type": "code",
   "execution_count": 1,
   "id": "3e969f47",
   "metadata": {},
   "outputs": [],
   "source": [
    "import pandas as pd\n",
    "import numpy as np\n",
    "import matplotlib.pyplot as plt"
   ]
  },
  {
   "cell_type": "code",
   "execution_count": 92,
   "id": "1dbbd779",
   "metadata": {},
   "outputs": [],
   "source": [
    "df = pd.read_csv('births.txt',header=None,index_col=0)\n",
    "df.columns=['x','y']\n",
    "df.index.name='year'"
   ]
  },
  {
   "cell_type": "code",
   "execution_count": 5,
   "id": "996d2bdc",
   "metadata": {
    "scrolled": true
   },
   "outputs": [
    {
     "data": {
      "text/html": [
       "<div>\n",
       "<style scoped>\n",
       "    .dataframe tbody tr th:only-of-type {\n",
       "        vertical-align: middle;\n",
       "    }\n",
       "\n",
       "    .dataframe tbody tr th {\n",
       "        vertical-align: top;\n",
       "    }\n",
       "\n",
       "    .dataframe thead th {\n",
       "        text-align: right;\n",
       "    }\n",
       "</style>\n",
       "<table border=\"1\" class=\"dataframe\">\n",
       "  <thead>\n",
       "    <tr style=\"text-align: right;\">\n",
       "      <th></th>\n",
       "      <th>x</th>\n",
       "      <th>y</th>\n",
       "    </tr>\n",
       "    <tr>\n",
       "      <th>year</th>\n",
       "      <th></th>\n",
       "      <th></th>\n",
       "    </tr>\n",
       "  </thead>\n",
       "  <tbody>\n",
       "    <tr>\n",
       "      <th>1880</th>\n",
       "      <td>90993</td>\n",
       "      <td>110491</td>\n",
       "    </tr>\n",
       "    <tr>\n",
       "      <th>1881</th>\n",
       "      <td>91954</td>\n",
       "      <td>100745</td>\n",
       "    </tr>\n",
       "    <tr>\n",
       "      <th>1882</th>\n",
       "      <td>107850</td>\n",
       "      <td>113688</td>\n",
       "    </tr>\n",
       "    <tr>\n",
       "      <th>1883</th>\n",
       "      <td>112321</td>\n",
       "      <td>104629</td>\n",
       "    </tr>\n",
       "    <tr>\n",
       "      <th>1884</th>\n",
       "      <td>129022</td>\n",
       "      <td>114445</td>\n",
       "    </tr>\n",
       "    <tr>\n",
       "      <th>...</th>\n",
       "      <td>...</td>\n",
       "      <td>...</td>\n",
       "    </tr>\n",
       "    <tr>\n",
       "      <th>2007</th>\n",
       "      <td>1919408</td>\n",
       "      <td>2072139</td>\n",
       "    </tr>\n",
       "    <tr>\n",
       "      <th>2008</th>\n",
       "      <td>1887234</td>\n",
       "      <td>2036289</td>\n",
       "    </tr>\n",
       "    <tr>\n",
       "      <th>2009</th>\n",
       "      <td>1832925</td>\n",
       "      <td>1979303</td>\n",
       "    </tr>\n",
       "    <tr>\n",
       "      <th>2010</th>\n",
       "      <td>1772738</td>\n",
       "      <td>1913851</td>\n",
       "    </tr>\n",
       "    <tr>\n",
       "      <th>2011</th>\n",
       "      <td>1753500</td>\n",
       "      <td>1893230</td>\n",
       "    </tr>\n",
       "  </tbody>\n",
       "</table>\n",
       "<p>132 rows × 2 columns</p>\n",
       "</div>"
      ],
      "text/plain": [
       "            x        y\n",
       "year                  \n",
       "1880    90993   110491\n",
       "1881    91954   100745\n",
       "1882   107850   113688\n",
       "1883   112321   104629\n",
       "1884   129022   114445\n",
       "...       ...      ...\n",
       "2007  1919408  2072139\n",
       "2008  1887234  2036289\n",
       "2009  1832925  1979303\n",
       "2010  1772738  1913851\n",
       "2011  1753500  1893230\n",
       "\n",
       "[132 rows x 2 columns]"
      ]
     },
     "execution_count": 5,
     "metadata": {},
     "output_type": "execute_result"
    }
   ],
   "source": [
    "df"
   ]
  },
  {
   "cell_type": "code",
   "execution_count": null,
   "id": "a6f2d4f7",
   "metadata": {},
   "outputs": [],
   "source": [
    "# 1.남아수 총합을 구하시요\n",
    "# 2.여아수 평균을 구하시요\n",
    "# 3.남아수가 가장많은 년도와\n",
    "# 남아수를 구하시요\n",
    "# 4.2000년도 이후 데이터를\n",
    "# 구하시요\n",
    "# 5. 1995~ 2000 년도 데이터를\n",
    "# 구하시요"
   ]
  },
  {
   "cell_type": "code",
   "execution_count": 26,
   "id": "427d2a60",
   "metadata": {
    "scrolled": true
   },
   "outputs": [
    {
     "data": {
      "text/plain": [
       "161802441"
      ]
     },
     "execution_count": 26,
     "metadata": {},
     "output_type": "execute_result"
    }
   ],
   "source": [
    "#1.\n",
    "df.loc[:,'x'].sum()"
   ]
  },
  {
   "cell_type": "code",
   "execution_count": 29,
   "id": "65aebefa",
   "metadata": {
    "scrolled": true
   },
   "outputs": [
    {
     "data": {
      "text/plain": [
       "1245399.2121212122"
      ]
     },
     "execution_count": 29,
     "metadata": {},
     "output_type": "execute_result"
    }
   ],
   "source": [
    "#2.\n",
    "df.iloc[:,1].mean()"
   ]
  },
  {
   "cell_type": "code",
   "execution_count": 45,
   "id": "6bd0a7fe",
   "metadata": {
    "scrolled": true
   },
   "outputs": [
    {
     "name": "stdout",
     "output_type": "stream",
     "text": [
      "남아수가 가장 많은 년도:1957, 가장 많은 남아수:2044160\n"
     ]
    }
   ],
   "source": [
    "#3.\n",
    "x_max_year = df.loc[:,'x'].idxmax()\n",
    "x_max_num = df.loc[:,'x'].max()\n",
    "y_max_year = df.loc[:,'y'].idxmax()\n",
    "y_max_num = df.loc[:,'y'].max()\n",
    "print(f'남아수가 가장 많은 년도:{x_max_year}, 가장 많은 남아수:{x_max_num}')"
   ]
  },
  {
   "cell_type": "code",
   "execution_count": 38,
   "id": "deeaa6f5",
   "metadata": {
    "scrolled": true
   },
   "outputs": [
    {
     "data": {
      "text/html": [
       "<div>\n",
       "<style scoped>\n",
       "    .dataframe tbody tr th:only-of-type {\n",
       "        vertical-align: middle;\n",
       "    }\n",
       "\n",
       "    .dataframe tbody tr th {\n",
       "        vertical-align: top;\n",
       "    }\n",
       "\n",
       "    .dataframe thead th {\n",
       "        text-align: right;\n",
       "    }\n",
       "</style>\n",
       "<table border=\"1\" class=\"dataframe\">\n",
       "  <thead>\n",
       "    <tr style=\"text-align: right;\">\n",
       "      <th></th>\n",
       "      <th>x</th>\n",
       "      <th>y</th>\n",
       "    </tr>\n",
       "    <tr>\n",
       "      <th>year</th>\n",
       "      <th></th>\n",
       "      <th></th>\n",
       "    </tr>\n",
       "  </thead>\n",
       "  <tbody>\n",
       "    <tr>\n",
       "      <th>2000</th>\n",
       "      <td>1814601</td>\n",
       "      <td>1962406</td>\n",
       "    </tr>\n",
       "    <tr>\n",
       "      <th>2001</th>\n",
       "      <td>1799049</td>\n",
       "      <td>1941251</td>\n",
       "    </tr>\n",
       "    <tr>\n",
       "      <th>2002</th>\n",
       "      <td>1795206</td>\n",
       "      <td>1939815</td>\n",
       "    </tr>\n",
       "    <tr>\n",
       "      <th>2003</th>\n",
       "      <td>1825359</td>\n",
       "      <td>1973434</td>\n",
       "    </tr>\n",
       "    <tr>\n",
       "      <th>2004</th>\n",
       "      <td>1834145</td>\n",
       "      <td>1982794</td>\n",
       "    </tr>\n",
       "    <tr>\n",
       "      <th>2005</th>\n",
       "      <td>1845379</td>\n",
       "      <td>1994841</td>\n",
       "    </tr>\n",
       "    <tr>\n",
       "      <th>2006</th>\n",
       "      <td>1898463</td>\n",
       "      <td>2052377</td>\n",
       "    </tr>\n",
       "    <tr>\n",
       "      <th>2007</th>\n",
       "      <td>1919408</td>\n",
       "      <td>2072139</td>\n",
       "    </tr>\n",
       "    <tr>\n",
       "      <th>2008</th>\n",
       "      <td>1887234</td>\n",
       "      <td>2036289</td>\n",
       "    </tr>\n",
       "    <tr>\n",
       "      <th>2009</th>\n",
       "      <td>1832925</td>\n",
       "      <td>1979303</td>\n",
       "    </tr>\n",
       "    <tr>\n",
       "      <th>2010</th>\n",
       "      <td>1772738</td>\n",
       "      <td>1913851</td>\n",
       "    </tr>\n",
       "    <tr>\n",
       "      <th>2011</th>\n",
       "      <td>1753500</td>\n",
       "      <td>1893230</td>\n",
       "    </tr>\n",
       "  </tbody>\n",
       "</table>\n",
       "</div>"
      ],
      "text/plain": [
       "            x        y\n",
       "year                  \n",
       "2000  1814601  1962406\n",
       "2001  1799049  1941251\n",
       "2002  1795206  1939815\n",
       "2003  1825359  1973434\n",
       "2004  1834145  1982794\n",
       "2005  1845379  1994841\n",
       "2006  1898463  2052377\n",
       "2007  1919408  2072139\n",
       "2008  1887234  2036289\n",
       "2009  1832925  1979303\n",
       "2010  1772738  1913851\n",
       "2011  1753500  1893230"
      ]
     },
     "execution_count": 38,
     "metadata": {},
     "output_type": "execute_result"
    }
   ],
   "source": [
    "#4.\n",
    "df[df.index >= 2000]"
   ]
  },
  {
   "cell_type": "code",
   "execution_count": 39,
   "id": "8fff2da8",
   "metadata": {
    "scrolled": true
   },
   "outputs": [
    {
     "data": {
      "text/html": [
       "<div>\n",
       "<style scoped>\n",
       "    .dataframe tbody tr th:only-of-type {\n",
       "        vertical-align: middle;\n",
       "    }\n",
       "\n",
       "    .dataframe tbody tr th {\n",
       "        vertical-align: top;\n",
       "    }\n",
       "\n",
       "    .dataframe thead th {\n",
       "        text-align: right;\n",
       "    }\n",
       "</style>\n",
       "<table border=\"1\" class=\"dataframe\">\n",
       "  <thead>\n",
       "    <tr style=\"text-align: right;\">\n",
       "      <th></th>\n",
       "      <th>x</th>\n",
       "      <th>y</th>\n",
       "    </tr>\n",
       "    <tr>\n",
       "      <th>year</th>\n",
       "      <th></th>\n",
       "      <th></th>\n",
       "    </tr>\n",
       "  </thead>\n",
       "  <tbody>\n",
       "    <tr>\n",
       "      <th>1995</th>\n",
       "      <td>1757927</td>\n",
       "      <td>1902832</td>\n",
       "    </tr>\n",
       "    <tr>\n",
       "      <th>1996</th>\n",
       "      <td>1752249</td>\n",
       "      <td>1893378</td>\n",
       "    </tr>\n",
       "    <tr>\n",
       "      <th>1997</th>\n",
       "      <td>1739806</td>\n",
       "      <td>1884122</td>\n",
       "    </tr>\n",
       "    <tr>\n",
       "      <th>1998</th>\n",
       "      <td>1765915</td>\n",
       "      <td>1910250</td>\n",
       "    </tr>\n",
       "    <tr>\n",
       "      <th>1999</th>\n",
       "      <td>1772632</td>\n",
       "      <td>1918809</td>\n",
       "    </tr>\n",
       "    <tr>\n",
       "      <th>2000</th>\n",
       "      <td>1814601</td>\n",
       "      <td>1962406</td>\n",
       "    </tr>\n",
       "  </tbody>\n",
       "</table>\n",
       "</div>"
      ],
      "text/plain": [
       "            x        y\n",
       "year                  \n",
       "1995  1757927  1902832\n",
       "1996  1752249  1893378\n",
       "1997  1739806  1884122\n",
       "1998  1765915  1910250\n",
       "1999  1772632  1918809\n",
       "2000  1814601  1962406"
      ]
     },
     "execution_count": 39,
     "metadata": {},
     "output_type": "execute_result"
    }
   ],
   "source": [
    "df.query('1995 <= index <= 2000')"
   ]
  },
  {
   "cell_type": "code",
   "execution_count": null,
   "id": "46276217",
   "metadata": {},
   "outputs": [],
   "source": [
    "# 6. 남아출생이 가장많은 top5\n",
    "# 를 구하시요(년도와 남아수)\n",
    "# 7. 남아율(%) 컬럼을 추가하고 각년도별\n",
    "# 남아수가 차지하는비율을 데이터로\n",
    "# 보여주시요.\n",
    "# 8. 2000년도 이후데이터 에 대해\n",
    "# 출생량 컬럼을 추가하고\n",
    "# 남아수가 1800000 이상이면 '많음'아니면 '적음'\n",
    "# 이라고 보여 주시요\n",
    "# \t남아수 출생량\n",
    "# 2000   1233   '많음'\n",
    "# 2001   1234   '적음'\n",
    "# 9.1800년대,1900년대,2000년대 \n",
    "# 각 남아,여야수 평균을 구하시요"
   ]
  },
  {
   "cell_type": "code",
   "execution_count": 48,
   "id": "77371e6d",
   "metadata": {
    "scrolled": false
   },
   "outputs": [
    {
     "data": {
      "text/plain": [
       "year\n",
       "1957    2044160\n",
       "1959    2023044\n",
       "1960    2022093\n",
       "1961    2017316\n",
       "1958    2010884\n",
       "Name: x, dtype: int64"
      ]
     },
     "execution_count": 48,
     "metadata": {},
     "output_type": "execute_result"
    }
   ],
   "source": [
    "#6.\n",
    "df.loc[:,'x'].nlargest(5,keep='all')"
   ]
  },
  {
   "cell_type": "code",
   "execution_count": 93,
   "id": "1721553f",
   "metadata": {},
   "outputs": [],
   "source": [
    "#7.\n",
    "df['x_rate(x/(x+y))'] = df.loc[:,'x']/df.sum(axis=1)"
   ]
  },
  {
   "cell_type": "code",
   "execution_count": 118,
   "id": "3ce7f800",
   "metadata": {
    "scrolled": true
   },
   "outputs": [
    {
     "data": {
      "text/html": [
       "<div>\n",
       "<style scoped>\n",
       "    .dataframe tbody tr th:only-of-type {\n",
       "        vertical-align: middle;\n",
       "    }\n",
       "\n",
       "    .dataframe tbody tr th {\n",
       "        vertical-align: top;\n",
       "    }\n",
       "\n",
       "    .dataframe thead th {\n",
       "        text-align: right;\n",
       "    }\n",
       "</style>\n",
       "<table border=\"1\" class=\"dataframe\">\n",
       "  <thead>\n",
       "    <tr style=\"text-align: right;\">\n",
       "      <th></th>\n",
       "      <th>x</th>\n",
       "      <th>y</th>\n",
       "      <th>x_quantity</th>\n",
       "    </tr>\n",
       "    <tr>\n",
       "      <th>year</th>\n",
       "      <th></th>\n",
       "      <th></th>\n",
       "      <th></th>\n",
       "    </tr>\n",
       "  </thead>\n",
       "  <tbody>\n",
       "    <tr>\n",
       "      <th>2000</th>\n",
       "      <td>1814601</td>\n",
       "      <td>1962406</td>\n",
       "      <td>many</td>\n",
       "    </tr>\n",
       "    <tr>\n",
       "      <th>2001</th>\n",
       "      <td>1799049</td>\n",
       "      <td>1941251</td>\n",
       "      <td>few</td>\n",
       "    </tr>\n",
       "    <tr>\n",
       "      <th>2002</th>\n",
       "      <td>1795206</td>\n",
       "      <td>1939815</td>\n",
       "      <td>few</td>\n",
       "    </tr>\n",
       "    <tr>\n",
       "      <th>2003</th>\n",
       "      <td>1825359</td>\n",
       "      <td>1973434</td>\n",
       "      <td>many</td>\n",
       "    </tr>\n",
       "    <tr>\n",
       "      <th>2004</th>\n",
       "      <td>1834145</td>\n",
       "      <td>1982794</td>\n",
       "      <td>many</td>\n",
       "    </tr>\n",
       "    <tr>\n",
       "      <th>2005</th>\n",
       "      <td>1845379</td>\n",
       "      <td>1994841</td>\n",
       "      <td>many</td>\n",
       "    </tr>\n",
       "    <tr>\n",
       "      <th>2006</th>\n",
       "      <td>1898463</td>\n",
       "      <td>2052377</td>\n",
       "      <td>many</td>\n",
       "    </tr>\n",
       "    <tr>\n",
       "      <th>2007</th>\n",
       "      <td>1919408</td>\n",
       "      <td>2072139</td>\n",
       "      <td>many</td>\n",
       "    </tr>\n",
       "    <tr>\n",
       "      <th>2008</th>\n",
       "      <td>1887234</td>\n",
       "      <td>2036289</td>\n",
       "      <td>many</td>\n",
       "    </tr>\n",
       "    <tr>\n",
       "      <th>2009</th>\n",
       "      <td>1832925</td>\n",
       "      <td>1979303</td>\n",
       "      <td>many</td>\n",
       "    </tr>\n",
       "    <tr>\n",
       "      <th>2010</th>\n",
       "      <td>1772738</td>\n",
       "      <td>1913851</td>\n",
       "      <td>few</td>\n",
       "    </tr>\n",
       "    <tr>\n",
       "      <th>2011</th>\n",
       "      <td>1753500</td>\n",
       "      <td>1893230</td>\n",
       "      <td>few</td>\n",
       "    </tr>\n",
       "  </tbody>\n",
       "</table>\n",
       "</div>"
      ],
      "text/plain": [
       "            x        y x_quantity\n",
       "year                             \n",
       "2000  1814601  1962406       many\n",
       "2001  1799049  1941251        few\n",
       "2002  1795206  1939815        few\n",
       "2003  1825359  1973434       many\n",
       "2004  1834145  1982794       many\n",
       "2005  1845379  1994841       many\n",
       "2006  1898463  2052377       many\n",
       "2007  1919408  2072139       many\n",
       "2008  1887234  2036289       many\n",
       "2009  1832925  1979303       many\n",
       "2010  1772738  1913851        few\n",
       "2011  1753500  1893230        few"
      ]
     },
     "execution_count": 118,
     "metadata": {},
     "output_type": "execute_result"
    }
   ],
   "source": [
    "#8.\n",
    "df['x_quantity'] = df.loc[2000:,'x'].apply(lambda v: 'many' if v>=1800000 else 'few')\n",
    "df.loc[2000:,['x','y','x_quantity']]"
   ]
  },
  {
   "cell_type": "code",
   "execution_count": 176,
   "id": "2f569081",
   "metadata": {},
   "outputs": [
    {
     "data": {
      "text/html": [
       "<div>\n",
       "<style scoped>\n",
       "    .dataframe tbody tr th:only-of-type {\n",
       "        vertical-align: middle;\n",
       "    }\n",
       "\n",
       "    .dataframe tbody tr th {\n",
       "        vertical-align: top;\n",
       "    }\n",
       "\n",
       "    .dataframe thead th {\n",
       "        text-align: right;\n",
       "    }\n",
       "</style>\n",
       "<table border=\"1\" class=\"dataframe\">\n",
       "  <thead>\n",
       "    <tr style=\"text-align: right;\">\n",
       "      <th></th>\n",
       "      <th>x</th>\n",
       "      <th>y</th>\n",
       "    </tr>\n",
       "  </thead>\n",
       "  <tbody>\n",
       "    <tr>\n",
       "      <th>1800s</th>\n",
       "      <td>176714.15</td>\n",
       "      <td>111820.55</td>\n",
       "    </tr>\n",
       "    <tr>\n",
       "      <th>1900s</th>\n",
       "      <td>1362901.51</td>\n",
       "      <td>1384145.55</td>\n",
       "    </tr>\n",
       "    <tr>\n",
       "      <th>2000s</th>\n",
       "      <td>1831500.58</td>\n",
       "      <td>1978477.50</td>\n",
       "    </tr>\n",
       "  </tbody>\n",
       "</table>\n",
       "</div>"
      ],
      "text/plain": [
       "                x           y\n",
       "1800s   176714.15   111820.55\n",
       "1900s  1362901.51  1384145.55\n",
       "2000s  1831500.58  1978477.50"
      ]
     },
     "execution_count": 176,
     "metadata": {},
     "output_type": "execute_result"
    }
   ],
   "source": [
    "df1800s = df.loc[1800:1899,['x','y']].mean().round(2)\n",
    "df1900s = df.loc[1900:1999,['x','y']].mean().round(2)\n",
    "df2000s = df.loc[2000:2099,['x','y']].mean().round(2)\n",
    "\n",
    "years = pd.DataFrame([df1800s,df1900s,df2000s])\n",
    "years.index = ['1800s','1900s','2000s']\n",
    "years"
   ]
  }
 ],
 "metadata": {
  "kernelspec": {
   "display_name": "Python 3 (ipykernel)",
   "language": "python",
   "name": "python3"
  },
  "language_info": {
   "codemirror_mode": {
    "name": "ipython",
    "version": 3
   },
   "file_extension": ".py",
   "mimetype": "text/x-python",
   "name": "python",
   "nbconvert_exporter": "python",
   "pygments_lexer": "ipython3",
   "version": "3.8.10"
  }
 },
 "nbformat": 4,
 "nbformat_minor": 5
}
